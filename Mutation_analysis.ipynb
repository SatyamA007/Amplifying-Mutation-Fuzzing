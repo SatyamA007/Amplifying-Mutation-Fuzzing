{
 "cells": [
  {
   "cell_type": "code",
   "execution_count": null,
   "id": "83c1c033",
   "metadata": {},
   "outputs": [],
   "source": [
    "from fuzzingbook.MutationFuzzer import MutationFuzzer\n",
    "\n",
    "seed_input = \"http://www.google.com/search?q=fuzzing\"\n",
    "mutation_fuzzer = MutationFuzzer(seed=[seed_input])\n",
    "seeds = [mutation_fuzzer.fuzz() for i in range(10)]\n",
    "print(seeds)\n"
   ]
  },
  {
   "cell_type": "code",
   "execution_count": null,
   "id": "aaff432c",
   "metadata": {},
   "outputs": [],
   "source": []
  },
  {
   "cell_type": "code",
   "execution_count": null,
   "id": "b2d88abf",
   "metadata": {},
   "outputs": [],
   "source": [
    "from fuzzingbook.MutationAnalysis import MuFunctionAnalyzer, MuProgramAnalyzer\n",
    "from fuzzingbook.ExpectError import ExpectError\n",
    "import sys"
   ]
  },
  {
   "cell_type": "code",
   "execution_count": null,
   "id": "1f9b407d",
   "metadata": {},
   "outputs": [],
   "source": [
    "def triangle(a, b, c):\n",
    "    if a == b:\n",
    "        if b == c:\n",
    "            return 'Equilateral'\n",
    "        else:\n",
    "            return 'Isosceles'\n",
    "    else:\n",
    "        if b == c:\n",
    "            return \"Isosceles\"\n",
    "        else:\n",
    "            if a == c:\n",
    "                return \"Isosceles\"\n",
    "            else:\n",
    "                return \"Scalene\""
   ]
  },
  {
   "cell_type": "code",
   "execution_count": null,
   "id": "b8aafe1a",
   "metadata": {},
   "outputs": [],
   "source": [
    "def weak_oracle(fn):\n",
    "    assert fn(1, 1, 1) == 'Equilateral'\n",
    "\n",
    "    assert fn(1, 2, 1) != 'Equilateral'\n",
    "    assert fn(2, 2, 1) != 'Equilateral'\n",
    "    assert fn(1, 2, 2) != 'Equilateral'\n",
    "\n",
    "    assert fn(1, 2, 3) != 'Equilateral'"
   ]
  },
  {
   "cell_type": "code",
   "execution_count": null,
   "id": "818f4b41",
   "metadata": {},
   "outputs": [],
   "source": [
    "def strong_oracle(fn):\n",
    "    assert fn(1, 1, 1) == 'Equilateral'\n",
    "\n",
    "    assert fn(1, 2, 1) == 'Isosceles'\n",
    "    assert fn(2, 2, 1) == 'Isosceles'\n",
    "    assert fn(1, 2, 2) == 'Isosceles'\n",
    "\n",
    "    assert fn(1, 2, 3) == 'Scalene'\n"
   ]
  },
  {
   "cell_type": "code",
   "execution_count": null,
   "id": "99fc6189",
   "metadata": {},
   "outputs": [],
   "source": [
    "strong_oracle(triangle)"
   ]
  },
  {
   "cell_type": "code",
   "execution_count": null,
   "id": "e8f908de",
   "metadata": {
    "scrolled": true
   },
   "outputs": [],
   "source": [
    "for mutant in MuFunctionAnalyzer(triangle):\n",
    "    with ExpectError():\n",
    "        with mutant:\n",
    "            weak_oracle(triangle)"
   ]
  },
  {
   "cell_type": "code",
   "execution_count": null,
   "id": "06f2992c",
   "metadata": {},
   "outputs": [],
   "source": [
    "MuFunctionAnalyzer(triangle).nmutations"
   ]
  },
  {
   "cell_type": "code",
   "execution_count": null,
   "id": "544e1ac6",
   "metadata": {},
   "outputs": [],
   "source": [
    "x = MuFunctionAnalyzer(triangle)"
   ]
  },
  {
   "cell_type": "code",
   "execution_count": null,
   "id": "d389c59e",
   "metadata": {},
   "outputs": [],
   "source": [
    "for mutant in x:\n",
    "    with mutant:\n",
    "        strong_oracle(triangle)\n",
    "print(mutant .pm.score())"
   ]
  },
  {
   "cell_type": "code",
   "execution_count": null,
   "id": "6b7cc40f",
   "metadata": {},
   "outputs": [],
   "source": [
    "\n",
    "(x.get_mutation_count())"
   ]
  },
  {
   "cell_type": "code",
   "execution_count": null,
   "id": "3ffab039",
   "metadata": {},
   "outputs": [],
   "source": [
    "for mutant in MuFunctionAnalyzer(triangle, log=True):\n",
    "    with mutant:\n",
    "        assert triangle(1, 1, 1) == 'Equilateral', \"Equal Check1\"\n",
    "        assert triangle(1, 0, 1) != 'Equilateral', \"Equal Check2\"\n",
    "        assert triangle(1, 0, 2) != 'Equilateral', \"Equal Check3\"\n",
    "mutant.pm.score()"
   ]
  },
  {
   "cell_type": "code",
   "execution_count": null,
   "id": "074538c5",
   "metadata": {},
   "outputs": [],
   "source": [
    "def gcd(a, b):\n",
    "    if a < b:\n",
    "        c = a\n",
    "        a = b\n",
    "        b = c\n",
    "\n",
    "    while b != 0:\n",
    "        c = a\n",
    "        a = b\n",
    "        b = c % b\n",
    "\n",
    "    return a"
   ]
  },
  {
   "cell_type": "code",
   "execution_count": null,
   "id": "c3dcf36a",
   "metadata": {},
   "outputs": [],
   "source": [
    "for mutant in MuFunctionAnalyzer(gcd, log=True):\n",
    "    with mutant:\n",
    "        assert gcd(1, 0) == 1, \"Minimal\"\n",
    "        assert gcd(0, 1) == 1, \"Mirror\"\n",
    "print(mutant.pm.score())"
   ]
  },
  {
   "cell_type": "markdown",
   "id": "d17f55af",
   "metadata": {},
   "source": [
    "# Modules"
   ]
  },
  {
   "cell_type": "code",
   "execution_count": null,
   "id": "4d2c0c56",
   "metadata": {},
   "outputs": [],
   "source": [
    "import types\n",
    "import inspect\n",
    "def import_code(code, name):\n",
    "    module = types.ModuleType(name)\n",
    "    exec(code, module.__dict__)\n",
    "    return module\n",
    "shape_src = inspect.getsource(triangle)\n",
    "shape = import_code(shape_src, 'shape')"
   ]
  },
  {
   "cell_type": "code",
   "execution_count": null,
   "id": "ba56a1ac",
   "metadata": {},
   "outputs": [],
   "source": [
    "shape.triangle(1,2,3)"
   ]
  },
  {
   "cell_type": "code",
   "execution_count": null,
   "id": "d9da2872",
   "metadata": {},
   "outputs": [],
   "source": [
    "import unittest\n",
    "class StrongShapeTest(unittest.TestCase):\n",
    "\n",
    "    def test_equilateral(self):\n",
    "        assert shape.triangle(1, 1, 1) == 'Equilateral'\n",
    "\n",
    "    def test_isosceles(self):\n",
    "        assert shape.triangle(1, 2, 1) == 'Isosceles'\n",
    "        assert shape.triangle(2, 2, 1) == 'Isosceles'\n",
    "        assert shape.triangle(1, 2, 2) == 'Isosceles'\n",
    "\n",
    "    def test_scalene(self):\n",
    "        assert shape.triangle(1, 2, 3) == 'Scalene'\n",
    "\n",
    "        \n",
    "class WeakShapeTest(unittest.TestCase):\n",
    "    def test_equilateral(self):\n",
    "        assert shape.triangle(1, 1, 1) == 'Equilateral'\n",
    "\n",
    "    def test_isosceles(self):\n",
    "        assert shape.triangle(1, 2, 1) != 'Equilateral'\n",
    "        assert shape.triangle(2, 2, 1) != 'Equilateral'\n",
    "        assert shape.triangle(1, 2, 2) != 'Equilateral'\n",
    "\n",
    "    def test_scalene(self):\n",
    "        assert shape.triangle(1, 2, 3) != 'Equilateral'\n",
    "        \n",
    "def suite(test_class):\n",
    "    suite = unittest.TestSuite()\n",
    "    for f in test_class.__dict__:\n",
    "        if f.startswith('test_'):\n",
    "            suite.addTest(test_class(f))\n",
    "    return suite\n"
   ]
  },
  {
   "cell_type": "code",
   "execution_count": null,
   "id": "c9991f98",
   "metadata": {},
   "outputs": [],
   "source": [
    "suite(StrongShapeTest).run(unittest.TestResult())"
   ]
  },
  {
   "cell_type": "code",
   "execution_count": null,
   "id": "0035cf51",
   "metadata": {},
   "outputs": [],
   "source": [
    "MuProgramAnalyzer('shape', shape_src).nmutations"
   ]
  },
  {
   "cell_type": "code",
   "execution_count": null,
   "id": "7afc7eb0",
   "metadata": {},
   "outputs": [],
   "source": [
    "for m in MuProgramAnalyzer('shape', shape_src):\n",
    "    print(m.name)"
   ]
  },
  {
   "cell_type": "code",
   "execution_count": null,
   "id": "f8e8a2a1",
   "metadata": {},
   "outputs": [],
   "source": [
    "for mutant in MuProgramAnalyzer('shape', shape_src):\n",
    "    print(mutant.name)\n",
    "    print(mutant.diff())\n",
    "    break"
   ]
  },
  {
   "cell_type": "code",
   "execution_count": null,
   "id": "59245dfd",
   "metadata": {},
   "outputs": [],
   "source": [
    "test_module = sys.modules[__name__]\n",
    "for mutant in MuProgramAnalyzer('shape', shape_src):\n",
    "    mutant[test_module].runTest('WeakShapeTest')\n",
    "mutant.pm.score()"
   ]
  },
  {
   "cell_type": "markdown",
   "id": "2bbf0699",
   "metadata": {},
   "source": [
    "## gcd function"
   ]
  },
  {
   "cell_type": "code",
   "execution_count": 4,
   "id": "125a1b47",
   "metadata": {},
   "outputs": [],
   "source": [
    "def gcd(a, b):\n",
    "    if a < b:\n",
    "        c = a\n",
    "        a = b\n",
    "        b = c\n",
    "\n",
    "    while b != 0:\n",
    "        c = a\n",
    "        a = b\n",
    "        b = c % b\n",
    "\n",
    "    return a"
   ]
  },
  {
   "cell_type": "code",
   "execution_count": null,
   "id": "18d06d02",
   "metadata": {},
   "outputs": [],
   "source": [
    "src = inspect.getsource(gcd)\n",
    "program = import_code(src, 'gcd')"
   ]
  },
  {
   "cell_type": "code",
   "execution_count": null,
   "id": "588f2b53",
   "metadata": {},
   "outputs": [],
   "source": [
    "MuProgramAnalyzer('program', src).nmutations"
   ]
  },
  {
   "cell_type": "code",
   "execution_count": 1,
   "id": "2ea3c379",
   "metadata": {},
   "outputs": [],
   "source": [
    "import unittest\n",
    "\n",
    "class TestGCD(unittest.TestCase):\n",
    "    def test_simple(self):\n",
    "        assert function.gcd(1, 0) == 1\n",
    "\n",
    "    def test_mirror(self):\n",
    "        assert function.gcd(0, 1) == 1"
   ]
  },
  {
   "cell_type": "markdown",
   "id": "ead72733",
   "metadata": {},
   "source": [
    "# Function to get mutation score\n"
   ]
  },
  {
   "cell_type": "code",
   "execution_count": 7,
   "id": "90ef8e84",
   "metadata": {},
   "outputs": [],
   "source": [
    "# First define the function and test_name\n",
    "\n",
    "import types\n",
    "import inspect\n",
    "from fuzzingbook.MutationAnalysis import MuProgramAnalyzer\n",
    "from fuzzingbook.ExpectError import ExpectError\n",
    "import sys\n",
    "\n",
    "test_module = sys.modules[__name__]\n",
    "\n",
    "def get_mutation_score(function, test_name):\n",
    "    src = inspect.getsource(function)\n",
    "    for mutant in MuProgramAnalyzer('function', src):\n",
    "        mutant[test_module].runTest(test_name)\n",
    "    return mutant.pm.score()"
   ]
  },
  {
   "cell_type": "code",
   "execution_count": 6,
   "id": "9e440dea",
   "metadata": {
    "scrolled": true
   },
   "outputs": [
    {
     "name": "stderr",
     "output_type": "stream",
     "text": [
      "======================================================================\n",
      "ERROR: test_mirror (__main__.TestGCD)\n",
      "----------------------------------------------------------------------\n",
      "Traceback (most recent call last):\n",
      "  File \"/var/folders/py/xtpzsqdd0tz15w13b3wtkqkm0000gn/T/ipykernel_38843/1753461744.py\", line 8, in test_mirror\n",
      "    assert function.gcd(0, 1) == 1\n",
      "  File \"<string>\", line 5, in gcd\n",
      "UnboundLocalError: local variable 'c' referenced before assignment\n",
      "\n",
      "----------------------------------------------------------------------\n",
      "Ran 2 tests in 0.000s\n",
      "\n",
      "FAILED (errors=1)\n",
      "======================================================================\n",
      "FAIL: test_mirror (__main__.TestGCD)\n",
      "----------------------------------------------------------------------\n",
      "Traceback (most recent call last):\n",
      "  File \"/var/folders/py/xtpzsqdd0tz15w13b3wtkqkm0000gn/T/ipykernel_38843/1753461744.py\", line 8, in test_mirror\n",
      "    assert function.gcd(0, 1) == 1\n",
      "AssertionError\n",
      "\n",
      "----------------------------------------------------------------------\n",
      "Ran 2 tests in 0.000s\n",
      "\n",
      "FAILED (failures=1)\n",
      "----------------------------------------------------------------------\n",
      "Ran 2 tests in 0.000s\n",
      "\n",
      "OK\n",
      "----------------------------------------------------------------------\n",
      "Ran 2 tests in 0.000s\n",
      "\n",
      "OK\n",
      "----------------------------------------------------------------------\n",
      "Ran 2 tests in 0.000s\n",
      "\n",
      "OK\n",
      "----------------------------------------------------------------------\n",
      "Ran 2 tests in 0.000s\n",
      "\n",
      "OK\n",
      "======================================================================\n",
      "FAIL: test_simple (__main__.TestGCD)\n",
      "----------------------------------------------------------------------\n",
      "Traceback (most recent call last):\n",
      "  File \"/var/folders/py/xtpzsqdd0tz15w13b3wtkqkm0000gn/T/ipykernel_38843/1753461744.py\", line 5, in test_simple\n",
      "    assert function.gcd(1, 0) == 1\n",
      "AssertionError\n",
      "\n",
      "----------------------------------------------------------------------\n",
      "Ran 1 test in 0.000s\n",
      "\n",
      "FAILED (failures=1)\n"
     ]
    },
    {
     "data": {
      "text/plain": [
       "0.42857142857142855"
      ]
     },
     "execution_count": 6,
     "metadata": {},
     "output_type": "execute_result"
    }
   ],
   "source": [
    "get_mutation_score(gcd, 'TestGCD')"
   ]
  },
  {
   "cell_type": "code",
   "execution_count": null,
   "id": "72ae5f94",
   "metadata": {},
   "outputs": [],
   "source": []
  },
  {
   "cell_type": "code",
   "execution_count": null,
   "id": "7433ed78",
   "metadata": {},
   "outputs": [],
   "source": []
  }
 ],
 "metadata": {
  "kernelspec": {
   "display_name": "Python 3 (ipykernel)",
   "language": "python",
   "name": "python3"
  },
  "language_info": {
   "codemirror_mode": {
    "name": "ipython",
    "version": 3
   },
   "file_extension": ".py",
   "mimetype": "text/x-python",
   "name": "python",
   "nbconvert_exporter": "python",
   "pygments_lexer": "ipython3",
   "version": "3.9.9"
  }
 },
 "nbformat": 4,
 "nbformat_minor": 5
}
